{
 "cells": [
  {
   "cell_type": "markdown",
   "metadata": {},
   "source": [
    "## Objectives\n",
    "\n",
    "In this part you will:\n",
    "\n",
    "*   Use webscraping to get bank information\n"
   ]
  },
  {
   "cell_type": "markdown",
   "metadata": {},
   "source": [
    "For this lab, we are going to be using Python and several Python libraries. Some of these libraries might be installed in your lab environment. Others may need to be installed by you.\n"
   ]
  },
  {
   "cell_type": "markdown",
   "metadata": {},
   "source": [
    "## Imports\n",
    "\n",
    "Import any additional libraries you may need here.\n"
   ]
  },
  {
   "cell_type": "code",
   "execution_count": 1,
   "metadata": {},
   "outputs": [],
   "source": [
    "from bs4 import BeautifulSoup\n",
    "import html5lib\n",
    "import requests\n",
    "import pandas as pd"
   ]
  },
  {
   "cell_type": "markdown",
   "metadata": {},
   "source": [
    "## Extract Data Using Web Scraping\n"
   ]
  },
  {
   "cell_type": "markdown",
   "metadata": {},
   "source": [
    "The wikipedia webpage [https://en.wikipedia.org/wiki/List_of_largest_banks](https://en.wikipedia.org/wiki/List_of_largest_banks?utm_medium=Exinfluencer&utm_source=Exinfluencer&utm_content=000026UJ&utm_term=10006555&utm_id=NA-SkillsNetwork-Channel-SkillsNetworkCoursesIBMDeveloperSkillsNetworkPY0221ENSkillsNetwork23455645-2022-01-01) provides information about largest banks in the world by various parameters. Scrape the data from the table 'By market capitalization' and store it in a JSON file.\n"
   ]
  },
  {
   "cell_type": "markdown",
   "metadata": {},
   "source": [
    "### Webpage Contents\n",
    "\n",
    "Gather the contents of the webpage in text format using the `requests` library and assign it to the variable <code>html_data</code>\n"
   ]
  },
  {
   "cell_type": "code",
   "execution_count": 2,
   "metadata": {},
   "outputs": [],
   "source": [
    "# Get the data from url using requests get method\n",
    "url = \"https://en.wikipedia.org/wiki/List_of_largest_banks?utm_medium=Exinfluencer&utm_source=Exinfluencer&utm_content=000026UJ&utm_term=10006555&utm_id=NA-SkillsNetwork-Channel-SkillsNetworkCoursesIBMDeveloperSkillsNetworkPY0221ENSkillsNetwork23455645-2022-01-01\"\n",
    "html_data = requests.get(url).text"
   ]
  },
  {
   "cell_type": "markdown",
   "metadata": {},
   "source": [
    "Print out randomly some lines of the text to see what the webpage looks like."
   ]
  },
  {
   "cell_type": "code",
   "execution_count": 3,
   "metadata": {},
   "outputs": [
    {
     "data": {
      "text/plain": [
       "'List of largest banks -'"
      ]
     },
     "execution_count": 3,
     "metadata": {},
     "output_type": "execute_result"
    }
   ],
   "source": [
    "quiz_quest = html_data[101:124]\n",
    "quiz_quest"
   ]
  },
  {
   "cell_type": "markdown",
   "metadata": {},
   "source": [
    "### Scraping the Data\n",
    "\n",
    "<b> TODO:</b> Using the contents and `beautiful soup` load the data from the `By market capitalization` table into a `pandas` dataframe. The dataframe should have the bank `Name` and `Market Cap (US$ Billion)` as column names.  Display the first five rows using head.\n"
   ]
  },
  {
   "cell_type": "code",
   "execution_count": 4,
   "metadata": {},
   "outputs": [],
   "source": [
    "# First Parse the Content of Webpage Using Beautiful Soup\n",
    "soup=BeautifulSoup(html_data, \"html5lib\")"
   ]
  },
  {
   "cell_type": "markdown",
   "metadata": {},
   "source": [
    "Load the data from the `By market capitalization` table into a pandas dataframe. The dataframe should have the bank `Name` and `Market Cap (US$ Billion)` as column names. Using the empty dataframe `data` and the given loop extract the necessary data from each row and append it to the empty dataframe."
   ]
  },
  {
   "cell_type": "code",
   "execution_count": 5,
   "metadata": {},
   "outputs": [
    {
     "name": "stderr",
     "output_type": "stream",
     "text": [
      "/var/folders/dk/_cfdg6bd67zbn7r4nmk7qpnm0000gn/T/ipykernel_16245/3494269895.py:11: FutureWarning: The frame.append method is deprecated and will be removed from pandas in a future version. Use pandas.concat instead.\n",
      "  data = data.append({\"Name\":name, \"Market Cap (US$ Billion)\":market_cap}, ignore_index=True)\n",
      "/var/folders/dk/_cfdg6bd67zbn7r4nmk7qpnm0000gn/T/ipykernel_16245/3494269895.py:11: FutureWarning: The frame.append method is deprecated and will be removed from pandas in a future version. Use pandas.concat instead.\n",
      "  data = data.append({\"Name\":name, \"Market Cap (US$ Billion)\":market_cap}, ignore_index=True)\n",
      "/var/folders/dk/_cfdg6bd67zbn7r4nmk7qpnm0000gn/T/ipykernel_16245/3494269895.py:11: FutureWarning: The frame.append method is deprecated and will be removed from pandas in a future version. Use pandas.concat instead.\n",
      "  data = data.append({\"Name\":name, \"Market Cap (US$ Billion)\":market_cap}, ignore_index=True)\n",
      "/var/folders/dk/_cfdg6bd67zbn7r4nmk7qpnm0000gn/T/ipykernel_16245/3494269895.py:11: FutureWarning: The frame.append method is deprecated and will be removed from pandas in a future version. Use pandas.concat instead.\n",
      "  data = data.append({\"Name\":name, \"Market Cap (US$ Billion)\":market_cap}, ignore_index=True)\n",
      "/var/folders/dk/_cfdg6bd67zbn7r4nmk7qpnm0000gn/T/ipykernel_16245/3494269895.py:11: FutureWarning: The frame.append method is deprecated and will be removed from pandas in a future version. Use pandas.concat instead.\n",
      "  data = data.append({\"Name\":name, \"Market Cap (US$ Billion)\":market_cap}, ignore_index=True)\n",
      "/var/folders/dk/_cfdg6bd67zbn7r4nmk7qpnm0000gn/T/ipykernel_16245/3494269895.py:11: FutureWarning: The frame.append method is deprecated and will be removed from pandas in a future version. Use pandas.concat instead.\n",
      "  data = data.append({\"Name\":name, \"Market Cap (US$ Billion)\":market_cap}, ignore_index=True)\n",
      "/var/folders/dk/_cfdg6bd67zbn7r4nmk7qpnm0000gn/T/ipykernel_16245/3494269895.py:11: FutureWarning: The frame.append method is deprecated and will be removed from pandas in a future version. Use pandas.concat instead.\n",
      "  data = data.append({\"Name\":name, \"Market Cap (US$ Billion)\":market_cap}, ignore_index=True)\n",
      "/var/folders/dk/_cfdg6bd67zbn7r4nmk7qpnm0000gn/T/ipykernel_16245/3494269895.py:11: FutureWarning: The frame.append method is deprecated and will be removed from pandas in a future version. Use pandas.concat instead.\n",
      "  data = data.append({\"Name\":name, \"Market Cap (US$ Billion)\":market_cap}, ignore_index=True)\n",
      "/var/folders/dk/_cfdg6bd67zbn7r4nmk7qpnm0000gn/T/ipykernel_16245/3494269895.py:11: FutureWarning: The frame.append method is deprecated and will be removed from pandas in a future version. Use pandas.concat instead.\n",
      "  data = data.append({\"Name\":name, \"Market Cap (US$ Billion)\":market_cap}, ignore_index=True)\n",
      "/var/folders/dk/_cfdg6bd67zbn7r4nmk7qpnm0000gn/T/ipykernel_16245/3494269895.py:11: FutureWarning: The frame.append method is deprecated and will be removed from pandas in a future version. Use pandas.concat instead.\n",
      "  data = data.append({\"Name\":name, \"Market Cap (US$ Billion)\":market_cap}, ignore_index=True)\n",
      "/var/folders/dk/_cfdg6bd67zbn7r4nmk7qpnm0000gn/T/ipykernel_16245/3494269895.py:11: FutureWarning: The frame.append method is deprecated and will be removed from pandas in a future version. Use pandas.concat instead.\n",
      "  data = data.append({\"Name\":name, \"Market Cap (US$ Billion)\":market_cap}, ignore_index=True)\n",
      "/var/folders/dk/_cfdg6bd67zbn7r4nmk7qpnm0000gn/T/ipykernel_16245/3494269895.py:11: FutureWarning: The frame.append method is deprecated and will be removed from pandas in a future version. Use pandas.concat instead.\n",
      "  data = data.append({\"Name\":name, \"Market Cap (US$ Billion)\":market_cap}, ignore_index=True)\n",
      "/var/folders/dk/_cfdg6bd67zbn7r4nmk7qpnm0000gn/T/ipykernel_16245/3494269895.py:11: FutureWarning: The frame.append method is deprecated and will be removed from pandas in a future version. Use pandas.concat instead.\n",
      "  data = data.append({\"Name\":name, \"Market Cap (US$ Billion)\":market_cap}, ignore_index=True)\n",
      "/var/folders/dk/_cfdg6bd67zbn7r4nmk7qpnm0000gn/T/ipykernel_16245/3494269895.py:11: FutureWarning: The frame.append method is deprecated and will be removed from pandas in a future version. Use pandas.concat instead.\n",
      "  data = data.append({\"Name\":name, \"Market Cap (US$ Billion)\":market_cap}, ignore_index=True)\n",
      "/var/folders/dk/_cfdg6bd67zbn7r4nmk7qpnm0000gn/T/ipykernel_16245/3494269895.py:11: FutureWarning: The frame.append method is deprecated and will be removed from pandas in a future version. Use pandas.concat instead.\n",
      "  data = data.append({\"Name\":name, \"Market Cap (US$ Billion)\":market_cap}, ignore_index=True)\n",
      "/var/folders/dk/_cfdg6bd67zbn7r4nmk7qpnm0000gn/T/ipykernel_16245/3494269895.py:11: FutureWarning: The frame.append method is deprecated and will be removed from pandas in a future version. Use pandas.concat instead.\n",
      "  data = data.append({\"Name\":name, \"Market Cap (US$ Billion)\":market_cap}, ignore_index=True)\n",
      "/var/folders/dk/_cfdg6bd67zbn7r4nmk7qpnm0000gn/T/ipykernel_16245/3494269895.py:11: FutureWarning: The frame.append method is deprecated and will be removed from pandas in a future version. Use pandas.concat instead.\n",
      "  data = data.append({\"Name\":name, \"Market Cap (US$ Billion)\":market_cap}, ignore_index=True)\n",
      "/var/folders/dk/_cfdg6bd67zbn7r4nmk7qpnm0000gn/T/ipykernel_16245/3494269895.py:11: FutureWarning: The frame.append method is deprecated and will be removed from pandas in a future version. Use pandas.concat instead.\n",
      "  data = data.append({\"Name\":name, \"Market Cap (US$ Billion)\":market_cap}, ignore_index=True)\n",
      "/var/folders/dk/_cfdg6bd67zbn7r4nmk7qpnm0000gn/T/ipykernel_16245/3494269895.py:11: FutureWarning: The frame.append method is deprecated and will be removed from pandas in a future version. Use pandas.concat instead.\n",
      "  data = data.append({\"Name\":name, \"Market Cap (US$ Billion)\":market_cap}, ignore_index=True)\n",
      "/var/folders/dk/_cfdg6bd67zbn7r4nmk7qpnm0000gn/T/ipykernel_16245/3494269895.py:11: FutureWarning: The frame.append method is deprecated and will be removed from pandas in a future version. Use pandas.concat instead.\n",
      "  data = data.append({\"Name\":name, \"Market Cap (US$ Billion)\":market_cap}, ignore_index=True)\n",
      "/var/folders/dk/_cfdg6bd67zbn7r4nmk7qpnm0000gn/T/ipykernel_16245/3494269895.py:11: FutureWarning: The frame.append method is deprecated and will be removed from pandas in a future version. Use pandas.concat instead.\n",
      "  data = data.append({\"Name\":name, \"Market Cap (US$ Billion)\":market_cap}, ignore_index=True)\n",
      "/var/folders/dk/_cfdg6bd67zbn7r4nmk7qpnm0000gn/T/ipykernel_16245/3494269895.py:11: FutureWarning: The frame.append method is deprecated and will be removed from pandas in a future version. Use pandas.concat instead.\n",
      "  data = data.append({\"Name\":name, \"Market Cap (US$ Billion)\":market_cap}, ignore_index=True)\n",
      "/var/folders/dk/_cfdg6bd67zbn7r4nmk7qpnm0000gn/T/ipykernel_16245/3494269895.py:11: FutureWarning: The frame.append method is deprecated and will be removed from pandas in a future version. Use pandas.concat instead.\n",
      "  data = data.append({\"Name\":name, \"Market Cap (US$ Billion)\":market_cap}, ignore_index=True)\n",
      "/var/folders/dk/_cfdg6bd67zbn7r4nmk7qpnm0000gn/T/ipykernel_16245/3494269895.py:11: FutureWarning: The frame.append method is deprecated and will be removed from pandas in a future version. Use pandas.concat instead.\n",
      "  data = data.append({\"Name\":name, \"Market Cap (US$ Billion)\":market_cap}, ignore_index=True)\n",
      "/var/folders/dk/_cfdg6bd67zbn7r4nmk7qpnm0000gn/T/ipykernel_16245/3494269895.py:11: FutureWarning: The frame.append method is deprecated and will be removed from pandas in a future version. Use pandas.concat instead.\n",
      "  data = data.append({\"Name\":name, \"Market Cap (US$ Billion)\":market_cap}, ignore_index=True)\n",
      "/var/folders/dk/_cfdg6bd67zbn7r4nmk7qpnm0000gn/T/ipykernel_16245/3494269895.py:11: FutureWarning: The frame.append method is deprecated and will be removed from pandas in a future version. Use pandas.concat instead.\n",
      "  data = data.append({\"Name\":name, \"Market Cap (US$ Billion)\":market_cap}, ignore_index=True)\n",
      "/var/folders/dk/_cfdg6bd67zbn7r4nmk7qpnm0000gn/T/ipykernel_16245/3494269895.py:11: FutureWarning: The frame.append method is deprecated and will be removed from pandas in a future version. Use pandas.concat instead.\n",
      "  data = data.append({\"Name\":name, \"Market Cap (US$ Billion)\":market_cap}, ignore_index=True)\n",
      "/var/folders/dk/_cfdg6bd67zbn7r4nmk7qpnm0000gn/T/ipykernel_16245/3494269895.py:11: FutureWarning: The frame.append method is deprecated and will be removed from pandas in a future version. Use pandas.concat instead.\n",
      "  data = data.append({\"Name\":name, \"Market Cap (US$ Billion)\":market_cap}, ignore_index=True)\n",
      "/var/folders/dk/_cfdg6bd67zbn7r4nmk7qpnm0000gn/T/ipykernel_16245/3494269895.py:11: FutureWarning: The frame.append method is deprecated and will be removed from pandas in a future version. Use pandas.concat instead.\n",
      "  data = data.append({\"Name\":name, \"Market Cap (US$ Billion)\":market_cap}, ignore_index=True)\n",
      "/var/folders/dk/_cfdg6bd67zbn7r4nmk7qpnm0000gn/T/ipykernel_16245/3494269895.py:11: FutureWarning: The frame.append method is deprecated and will be removed from pandas in a future version. Use pandas.concat instead.\n",
      "  data = data.append({\"Name\":name, \"Market Cap (US$ Billion)\":market_cap}, ignore_index=True)\n",
      "/var/folders/dk/_cfdg6bd67zbn7r4nmk7qpnm0000gn/T/ipykernel_16245/3494269895.py:11: FutureWarning: The frame.append method is deprecated and will be removed from pandas in a future version. Use pandas.concat instead.\n",
      "  data = data.append({\"Name\":name, \"Market Cap (US$ Billion)\":market_cap}, ignore_index=True)\n",
      "/var/folders/dk/_cfdg6bd67zbn7r4nmk7qpnm0000gn/T/ipykernel_16245/3494269895.py:11: FutureWarning: The frame.append method is deprecated and will be removed from pandas in a future version. Use pandas.concat instead.\n",
      "  data = data.append({\"Name\":name, \"Market Cap (US$ Billion)\":market_cap}, ignore_index=True)\n",
      "/var/folders/dk/_cfdg6bd67zbn7r4nmk7qpnm0000gn/T/ipykernel_16245/3494269895.py:11: FutureWarning: The frame.append method is deprecated and will be removed from pandas in a future version. Use pandas.concat instead.\n",
      "  data = data.append({\"Name\":name, \"Market Cap (US$ Billion)\":market_cap}, ignore_index=True)\n",
      "/var/folders/dk/_cfdg6bd67zbn7r4nmk7qpnm0000gn/T/ipykernel_16245/3494269895.py:11: FutureWarning: The frame.append method is deprecated and will be removed from pandas in a future version. Use pandas.concat instead.\n",
      "  data = data.append({\"Name\":name, \"Market Cap (US$ Billion)\":market_cap}, ignore_index=True)\n",
      "/var/folders/dk/_cfdg6bd67zbn7r4nmk7qpnm0000gn/T/ipykernel_16245/3494269895.py:11: FutureWarning: The frame.append method is deprecated and will be removed from pandas in a future version. Use pandas.concat instead.\n",
      "  data = data.append({\"Name\":name, \"Market Cap (US$ Billion)\":market_cap}, ignore_index=True)\n",
      "/var/folders/dk/_cfdg6bd67zbn7r4nmk7qpnm0000gn/T/ipykernel_16245/3494269895.py:11: FutureWarning: The frame.append method is deprecated and will be removed from pandas in a future version. Use pandas.concat instead.\n",
      "  data = data.append({\"Name\":name, \"Market Cap (US$ Billion)\":market_cap}, ignore_index=True)\n",
      "/var/folders/dk/_cfdg6bd67zbn7r4nmk7qpnm0000gn/T/ipykernel_16245/3494269895.py:11: FutureWarning: The frame.append method is deprecated and will be removed from pandas in a future version. Use pandas.concat instead.\n",
      "  data = data.append({\"Name\":name, \"Market Cap (US$ Billion)\":market_cap}, ignore_index=True)\n",
      "/var/folders/dk/_cfdg6bd67zbn7r4nmk7qpnm0000gn/T/ipykernel_16245/3494269895.py:11: FutureWarning: The frame.append method is deprecated and will be removed from pandas in a future version. Use pandas.concat instead.\n",
      "  data = data.append({\"Name\":name, \"Market Cap (US$ Billion)\":market_cap}, ignore_index=True)\n",
      "/var/folders/dk/_cfdg6bd67zbn7r4nmk7qpnm0000gn/T/ipykernel_16245/3494269895.py:11: FutureWarning: The frame.append method is deprecated and will be removed from pandas in a future version. Use pandas.concat instead.\n",
      "  data = data.append({\"Name\":name, \"Market Cap (US$ Billion)\":market_cap}, ignore_index=True)\n",
      "/var/folders/dk/_cfdg6bd67zbn7r4nmk7qpnm0000gn/T/ipykernel_16245/3494269895.py:11: FutureWarning: The frame.append method is deprecated and will be removed from pandas in a future version. Use pandas.concat instead.\n",
      "  data = data.append({\"Name\":name, \"Market Cap (US$ Billion)\":market_cap}, ignore_index=True)\n",
      "/var/folders/dk/_cfdg6bd67zbn7r4nmk7qpnm0000gn/T/ipykernel_16245/3494269895.py:11: FutureWarning: The frame.append method is deprecated and will be removed from pandas in a future version. Use pandas.concat instead.\n",
      "  data = data.append({\"Name\":name, \"Market Cap (US$ Billion)\":market_cap}, ignore_index=True)\n",
      "/var/folders/dk/_cfdg6bd67zbn7r4nmk7qpnm0000gn/T/ipykernel_16245/3494269895.py:11: FutureWarning: The frame.append method is deprecated and will be removed from pandas in a future version. Use pandas.concat instead.\n",
      "  data = data.append({\"Name\":name, \"Market Cap (US$ Billion)\":market_cap}, ignore_index=True)\n",
      "/var/folders/dk/_cfdg6bd67zbn7r4nmk7qpnm0000gn/T/ipykernel_16245/3494269895.py:11: FutureWarning: The frame.append method is deprecated and will be removed from pandas in a future version. Use pandas.concat instead.\n",
      "  data = data.append({\"Name\":name, \"Market Cap (US$ Billion)\":market_cap}, ignore_index=True)\n",
      "/var/folders/dk/_cfdg6bd67zbn7r4nmk7qpnm0000gn/T/ipykernel_16245/3494269895.py:11: FutureWarning: The frame.append method is deprecated and will be removed from pandas in a future version. Use pandas.concat instead.\n",
      "  data = data.append({\"Name\":name, \"Market Cap (US$ Billion)\":market_cap}, ignore_index=True)\n",
      "/var/folders/dk/_cfdg6bd67zbn7r4nmk7qpnm0000gn/T/ipykernel_16245/3494269895.py:11: FutureWarning: The frame.append method is deprecated and will be removed from pandas in a future version. Use pandas.concat instead.\n",
      "  data = data.append({\"Name\":name, \"Market Cap (US$ Billion)\":market_cap}, ignore_index=True)\n",
      "/var/folders/dk/_cfdg6bd67zbn7r4nmk7qpnm0000gn/T/ipykernel_16245/3494269895.py:11: FutureWarning: The frame.append method is deprecated and will be removed from pandas in a future version. Use pandas.concat instead.\n",
      "  data = data.append({\"Name\":name, \"Market Cap (US$ Billion)\":market_cap}, ignore_index=True)\n",
      "/var/folders/dk/_cfdg6bd67zbn7r4nmk7qpnm0000gn/T/ipykernel_16245/3494269895.py:11: FutureWarning: The frame.append method is deprecated and will be removed from pandas in a future version. Use pandas.concat instead.\n",
      "  data = data.append({\"Name\":name, \"Market Cap (US$ Billion)\":market_cap}, ignore_index=True)\n",
      "/var/folders/dk/_cfdg6bd67zbn7r4nmk7qpnm0000gn/T/ipykernel_16245/3494269895.py:11: FutureWarning: The frame.append method is deprecated and will be removed from pandas in a future version. Use pandas.concat instead.\n",
      "  data = data.append({\"Name\":name, \"Market Cap (US$ Billion)\":market_cap}, ignore_index=True)\n",
      "/var/folders/dk/_cfdg6bd67zbn7r4nmk7qpnm0000gn/T/ipykernel_16245/3494269895.py:11: FutureWarning: The frame.append method is deprecated and will be removed from pandas in a future version. Use pandas.concat instead.\n",
      "  data = data.append({\"Name\":name, \"Market Cap (US$ Billion)\":market_cap}, ignore_index=True)\n",
      "/var/folders/dk/_cfdg6bd67zbn7r4nmk7qpnm0000gn/T/ipykernel_16245/3494269895.py:11: FutureWarning: The frame.append method is deprecated and will be removed from pandas in a future version. Use pandas.concat instead.\n",
      "  data = data.append({\"Name\":name, \"Market Cap (US$ Billion)\":market_cap}, ignore_index=True)\n"
     ]
    }
   ],
   "source": [
    "data = pd.DataFrame(columns=[\"Name\", \"Market Cap (US$ Billion)\"])\n",
    "\n",
    "# soup.find_all('tbody') will get all the tables in the html page\n",
    "# [3] will get the 4th table in the html page which is By Market Captialization\n",
    "# tbody.find_all('tr') will get all the rows in that table\n",
    "for row in soup.find_all('tbody')[3].find_all('tr'):\n",
    "    col = row.find_all('td')\n",
    "    if (col != []):\n",
    "        name = col[1].text\n",
    "        market_cap = col[2].text\n",
    "        data = data.append({\"Name\":name, \"Market Cap (US$ Billion)\":market_cap}, ignore_index=True)"
   ]
  },
  {
   "cell_type": "code",
   "execution_count": 6,
   "metadata": {},
   "outputs": [
    {
     "data": {
      "text/html": [
       "<div>\n",
       "<style scoped>\n",
       "    .dataframe tbody tr th:only-of-type {\n",
       "        vertical-align: middle;\n",
       "    }\n",
       "\n",
       "    .dataframe tbody tr th {\n",
       "        vertical-align: top;\n",
       "    }\n",
       "\n",
       "    .dataframe thead th {\n",
       "        text-align: right;\n",
       "    }\n",
       "</style>\n",
       "<table border=\"1\" class=\"dataframe\">\n",
       "  <thead>\n",
       "    <tr style=\"text-align: right;\">\n",
       "      <th></th>\n",
       "      <th>Name</th>\n",
       "      <th>Market Cap (US$ Billion)</th>\n",
       "    </tr>\n",
       "  </thead>\n",
       "  <tbody>\n",
       "    <tr>\n",
       "      <th>0</th>\n",
       "      <td>JPMorgan Chase</td>\n",
       "      <td>400.37[6]</td>\n",
       "    </tr>\n",
       "    <tr>\n",
       "      <th>1</th>\n",
       "      <td>Industrial and Commercial Bank of China</td>\n",
       "      <td>295.65</td>\n",
       "    </tr>\n",
       "    <tr>\n",
       "      <th>2</th>\n",
       "      <td>Bank of America</td>\n",
       "      <td>279.73</td>\n",
       "    </tr>\n",
       "    <tr>\n",
       "      <th>3</th>\n",
       "      <td>Wells Fargo</td>\n",
       "      <td>214.34</td>\n",
       "    </tr>\n",
       "    <tr>\n",
       "      <th>4</th>\n",
       "      <td>China Construction Bank</td>\n",
       "      <td>207.98</td>\n",
       "    </tr>\n",
       "  </tbody>\n",
       "</table>\n",
       "</div>"
      ],
      "text/plain": [
       "                                       Name Market Cap (US$ Billion)\n",
       "0                            JPMorgan Chase                400.37[6]\n",
       "1   Industrial and Commercial Bank of China                   295.65\n",
       "2                           Bank of America                   279.73\n",
       "3                               Wells Fargo                   214.34\n",
       "4                   China Construction Bank                   207.98"
      ]
     },
     "execution_count": 6,
     "metadata": {},
     "output_type": "execute_result"
    }
   ],
   "source": [
    "# Remove the \\n from Records\n",
    "data[\"Market Cap (US$ Billion)\"] = data[\"Market Cap (US$ Billion)\"].str.replace(\"\\n\", \"\")\n",
    "data[\"Name\"] = data[\"Name\"].str.replace(\"\\n\", \"\")\n",
    "\n",
    "# Now display 5 records\n",
    "data.head(5)"
   ]
  },
  {
   "cell_type": "markdown",
   "metadata": {},
   "source": [
    "### Loading the Data\n",
    "\n",
    "Usually you will Load the `pandas` dataframe created above into a JSON named `bank_market_cap.json` using the `to_json()` function."
   ]
  },
  {
   "cell_type": "code",
   "execution_count": 7,
   "metadata": {},
   "outputs": [],
   "source": [
    "# Loading to JSON\n",
    "filename = 'bank_market_cap.json'\n",
    "# Use the to_json() function to save the dataframe to a json file\n",
    "json_data = data.to_json(filename)\n",
    "\n",
    "# print(data.to_json(orient='records')) # oreint='records' will print the json in a list of dictionaries format"
   ]
  },
  {
   "cell_type": "markdown",
   "metadata": {},
   "source": [
    "### Github: Umer86"
   ]
  }
 ],
 "metadata": {
  "kernelspec": {
   "display_name": "Python 3.9.7 ('base')",
   "language": "python",
   "name": "python3"
  },
  "language_info": {
   "codemirror_mode": {
    "name": "ipython",
    "version": 3
   },
   "file_extension": ".py",
   "mimetype": "text/x-python",
   "name": "python",
   "nbconvert_exporter": "python",
   "pygments_lexer": "ipython3",
   "version": "3.9.7"
  },
  "orig_nbformat": 4,
  "vscode": {
   "interpreter": {
    "hash": "140d6ea09a641b8cdd96372a8c6168d5667f051a632e76bb9ef3e68ca0751385"
   }
  }
 },
 "nbformat": 4,
 "nbformat_minor": 2
}
